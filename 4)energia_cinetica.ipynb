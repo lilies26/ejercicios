{
 "cells": [
  {
   "cell_type": "markdown",
   "metadata": {},
   "source": [
    "Problema 3: Energía Cinética\n",
    "Escribe un programa que calcule la energía cinética de un objeto. El programa debe pedir al usuario la masa del objeto (en kilogramos) y la velocidad a la que se mueve (en metros por segundo). Luego, debe calcular la energía cinética usando la fórmula:\n",
    "\n",
    "$Energía Cinética=\\frac{1}{2}\\times Masa\\times Velocidad^2$ \n",
    "\n",
    "Finalmente, el programa debe mostrar la energía cinética del objeto en julios.\n",
    "\n",
    "Respuesta esperada: Un valor numérico que representa la energía cinética en julios."
   ]
  },
  {
   "cell_type": "code",
   "execution_count": null,
   "metadata": {},
   "outputs": [],
   "source": [
    "while 1:\n",
    "  while 1:\n",
    "   try:\n",
    "    masa=float(input(\"ingrese la masa del objeto en kilogramos(kg)\"))\n",
    "    break \n",
    "   except ValueError:\n",
    "   print(\"Debe ingresar un numero\")\n",
    "\n",
    "  while 1:\n",
    "   try:\n",
    "    velocidad=float(input(\"ingrese la velocidad del objeto en m/s\"))\n",
    "    vel2=velocidad^2\n",
    "    break\n",
    "   except ValueError:\n",
    "     print(\"Debe ingresar un numero\")\n",
    "      \n",
    " enercin=1/2*masa*vel2\n",
    " print(\"la energia cinetica del objeto es: \"+enercin+\" J\")\n",
    " new=str(input(\"Quiere hacer otro calculo? SI, NO\"))\n",
    " if new==('SI') or ('si') or ('Si')\n",
    "  continue\n",
    " else:\n",
    "  break"
   ]
  },
  {
   "cell_type": "code",
   "execution_count": null,
   "metadata": {
    "vscode": {
     "languageId": "plaintext"
    }
   },
   "outputs": [],
   "source": []
  }
 ],
 "metadata": {
  "language_info": {
   "name": "python"
  }
 },
 "nbformat": 4,
 "nbformat_minor": 2
}
