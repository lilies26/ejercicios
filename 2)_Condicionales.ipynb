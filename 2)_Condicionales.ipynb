{
 "cells": [
  {
   "cell_type": "markdown",
   "metadata": {},
   "source": [
    "## Problema: Cálculo de Interés Simple\n",
    "Escribe un programa que calcule el interés simple ganado en una inversión. El programa debe solicitar al usuario el capital invertido (en pesos), la tasa de interés anual (como porcentaje), y el número de años que durará la inversión. El programa debe calcular y mostrar el interés simple utilizando la fórmula:\n",
    "\n",
    "$Interés=Capital \\times Tasa \\times Tiempo$\n",
    "\n",
    "Respuesta esperada: Un valor numérico que representa el interés simple ganado."
   ]
  },
  {
   "cell_type": "code",
   "execution_count": null,
   "metadata": {},
   "outputs": [],
   "source": [
    "\n",
    "Capital_invertido=float(input(\"Ingrese el capital inveretido\")\n",
    "interes_anual=[]\n",
    "bucle=1                        \n",
    "while bucle\n",
    "     valor=float(input(\"ingrese la tasa de interes anual ejemplo: 5%\"))\n",
    "     if valor>=0 and valor<=100\n",
    "         tasa=valor/100\n",
    "         tiempo=int(input(\"cuanto tiempo durara la inversion (en anos):\"))\n",
    "         interes=Capital_invertido*tasa*tiempo\n",
    "         print(\"el interes ganado es:\" + interes+)\n",
    "         bucle=0\n",
    "    else print(\"Ingrese un valor valido entre 0 y 100\")\n"
   ]
  },
  {
   "cell_type": "code",
   "execution_count": null,
   "metadata": {},
   "outputs": [],
   "source": [
    "Capital_invertido=float(input(\"Ingrese el capital inveretido\")\n",
    "interes_anual=[]\n",
    "                     \n",
    "while 1\n",
    "     valor=float(input(\"ingrese la tasa de interes anual ejemplo: 5%\"))\n",
    "     if valor>=0 and valor<=100\n",
    "         tasa=valor/100\n",
    "         tiempo=int(input(\"cuanto tiempo durara la inversion (en anos):\"))\n",
    "         interes=Capital_invertido*tasa*tiempo\n",
    "         print(\"el interes ganado es:\" + interes+)\n",
    "         break\n",
    "    else print(\"Ingrese un valor valido entre 0 y 100\")"
   ]
  },
  {
   "cell_type": "code",
   "execution_count": null,
   "metadata": {},
   "outputs": [],
   "source": [
    "while True\n",
    "     valor=float(input(\"ingrese la tasa de interes anual ejemplo: 5%\"))\n",
    "     if valor>=0 and valor<=100\n",
    "         tasa=valor/100\n",
    "         try:\n",
    "             tiempo=int(input(\"cuanto tiempo durara la inversion (en anos):\"))\n",
    "             try:\n",
    "                 Capital_invertido=float(input(\"Ingrese el capital inveretido en pesos\")\n",
    "                 interes=Capital_invertido*tasa*tiempo\n",
    "            except ValueError:\n",
    "                 print(\"ingrese un numero\")\n",
    "        except ValueError:\n",
    "             print(\"ingrese un numero entero de anos\")\n",
    "         \n",
    "         print(\"el interes ganado es:\" + interes+)\n",
    "         break\n",
    "    else print(\"Ingrese un valor valido entre 0 y 100\")"
   ]
  }
 ],
 "metadata": {
  "kernelspec": {
   "display_name": "Python 3",
   "language": "python",
   "name": "python3"
  },
  "language_info": {
   "codemirror_mode": {
    "name": "ipython",
    "version": 3
   },
   "file_extension": ".py",
   "mimetype": "text/x-python",
   "name": "python",
   "nbconvert_exporter": "python",
   "pygments_lexer": "ipython3",
   "version": "3.12.1"
  }
 },
 "nbformat": 4,
 "nbformat_minor": 2
}
