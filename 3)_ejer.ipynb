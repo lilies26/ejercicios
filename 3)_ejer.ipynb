{
 "cells": [
  {
   "cell_type": "markdown",
   "metadata": {},
   "source": [
    "### Problema 2: Clasificación de Créditos\n",
    "Desarrolla un programa que clasifique una solicitud de crédito basado en el puntaje crediticio del solicitante. El programa debe solicitar al usuario el puntaje crediticio (entre 300 y 850) y clasificarlo de la siguiente manera:\n",
    "\n",
    "Excelente: 750 o más\n",
    "Bueno: entre 700 y 749\n",
    "Regular: entre 650 y 699\n",
    "Malo: menos de 650\n",
    "El programa debe mostrar la categoría correspondiente.\n",
    "\n",
    "Respuesta esperada: \"Excelente\", \"Bueno\", \"Regular\", o \"Malo\""
   ]
  },
  {
   "cell_type": "code",
   "execution_count": null,
   "metadata": {},
   "outputs": [],
   "source": [
    "while True:\n",
    "    \n",
    "     pcrediticio=float(input(\"ingrase su porcetanje crediticio: \"))\n",
    "     if pcrediticio>=300 and pcrediticio<= 850\n",
    "        break\n",
    "     else\n",
    "      print(\"el puntaje cerediticio varia entre 300 y 850\")\n",
    "     except ValueError:\n",
    "      print(\"ingrese un numero\")\n",
    "    \n",
    "if pcrediticio>=750:\n",
    "   print(\"Estado: Exelente\")\n",
    "elif pcrediticio>=700:\n",
    "   print (\"Estado: Bueno\")\n",
    "elif pcrediticio>=650:\n",
    "   print(\"Esado: Regular\")\n",
    "else:\n",
    "    print(Estado: Malo)\n"
   ]
  }
 ],
 "metadata": {
  "language_info": {
   "name": "python"
  }
 },
 "nbformat": 4,
 "nbformat_minor": 2
}
