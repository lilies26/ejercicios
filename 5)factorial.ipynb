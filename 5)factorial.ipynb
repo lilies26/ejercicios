{
 "cells": [
  {
   "cell_type": "markdown",
   "metadata": {},
   "source": [
    "Problema 1: Cálculo del Factorial de un Número\n",
    "Escribe un programa que calcule el factorial de un número entero positivo que el usuario ingrese. El programa debe solicitar al usuario que ingrese un número y luego calcular el factorial de ese número utilizando un bucle for.\n",
    "\n",
    "Instrucciones:\n",
    "\n",
    "Usa un bucle for para multiplicar los números desde 1 hasta el número ingresado por el usuario.\n",
    "El factorial de un número n se define como $n! = 1 * 2 * 3 * ... * n$"
   ]
  },
  {
   "cell_type": "code",
   "execution_count": null,
   "metadata": {},
   "outputs": [],
   "source": [
    "n=int(input(\"Ingrese el numero que desea conocer su factorial\"))\n",
    "fac=1\n",
    "for i in range(n):\n",
    "    i=i+1\n",
    "    fac=i*fac\n",
    "print(\"El factoeial del numero es :\",fac)"
   ]
  }
 ],
 "metadata": {
  "language_info": {
   "name": "python"
  }
 },
 "nbformat": 4,
 "nbformat_minor": 2
}
