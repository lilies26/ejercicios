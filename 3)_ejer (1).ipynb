{
  "cells": [
    {
      "cell_type": "markdown",
      "metadata": {
        "id": "qbPzP1vN0zUv"
      },
      "source": [
        "### Problema 2: Clasificación de Créditos\n",
        "Desarrolla un programa que clasifique una solicitud de crédito basado en el puntaje crediticio del solicitante. El programa debe solicitar al usuario el puntaje crediticio (entre 300 y 850) y clasificarlo de la siguiente manera:\n",
        "\n",
        "Excelente: 750 o más\n",
        "Bueno: entre 700 y 749\n",
        "Regular: entre 650 y 699\n",
        "Malo: menos de 650\n",
        "El programa debe mostrar la categoría correspondiente.\n",
        "\n",
        "Respuesta esperada: \"Excelente\", \"Bueno\", \"Regular\", o \"Malo\""
      ]
    },
    {
      "cell_type": "code",
      "execution_count": 47,
      "metadata": {
        "id": "caeXEsCK0zU0",
        "outputId": "a7e27dbd-40bd-4cd3-deea-9fe0f98cdcf6",
        "colab": {
          "base_uri": "https://localhost:8080/"
        }
      },
      "outputs": [
        {
          "output_type": "stream",
          "name": "stdout",
          "text": [
            "ingrase su porcetanje crediticio: 599\n",
            "Malo\n",
            "quiere hacer otra consulta? ingrese True o en su defecto cualquier otra cosa e\n",
            "Vuelva pronto\n"
          ]
        }
      ],
      "source": [
        "  while True:\n",
        "       try:\n",
        "        pcrediticio=float(input(\"ingrase su porcetanje crediticio: \"))\n",
        "        if pcrediticio>=300 and pcrediticio<= 850:\n",
        "          if pcrediticio>=750:\n",
        "            print(\"Excelente\")\n",
        "          elif pcrediticio>=700:\n",
        "            print(\"Bueno\")\n",
        "          elif pcrediticio>=650:\n",
        "            print(\"Regular\")\n",
        "          else:\n",
        "            print(\"Malo\")\n",
        "          reiniciar=bool(input(\"quiere hacer otra consulta? ingrese True o en su defecto cualquier otra cosa \"))\n",
        "          if reiniciar==\"True\":\n",
        "             continue\n",
        "          else:\n",
        "           print(\"Vuelva pronto\")\n",
        "           break\n",
        "        else:\n",
        "          print(\"el puntaje cerediticio varia entre 300 y 850\")\n",
        "       except ValueError:\n",
        "        print(\"ingrese un numero\")\n",
        "\n",
        "\n"
      ]
    },
    {
      "cell_type": "code",
      "source": [],
      "metadata": {
        "id": "WeE1wdty1Exh"
      },
      "execution_count": null,
      "outputs": []
    }
  ],
  "metadata": {
    "language_info": {
      "name": "python"
    },
    "colab": {
      "provenance": []
    },
    "kernelspec": {
      "name": "python3",
      "display_name": "Python 3"
    }
  },
  "nbformat": 4,
  "nbformat_minor": 0
}